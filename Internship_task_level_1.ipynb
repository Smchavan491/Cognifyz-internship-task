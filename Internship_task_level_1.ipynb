{
  "cells": [
    {
      "cell_type": "markdown",
      "metadata": {
        "id": "view-in-github",
        "colab_type": "text"
      },
      "source": [
        "<a href=\"https://colab.research.google.com/github/Smchavan491/Cognifyz-internship-task/blob/main/Internship_task_level_1.ipynb\" target=\"_parent\"><img src=\"https://colab.research.google.com/assets/colab-badge.svg\" alt=\"Open In Colab\"/></a>"
      ]
    },
    {
      "cell_type": "markdown",
      "source": [
        "#Task : 1"
      ],
      "metadata": {
        "id": "5jYKNT_QGewP"
      }
    },
    {
      "cell_type": "code",
      "execution_count": 1,
      "metadata": {
        "colab": {
          "base_uri": "https://localhost:8080/"
        },
        "id": "tUQm684J96Q0",
        "outputId": "7bddea9b-d966-44af-d505-8717048834dd"
      },
      "outputs": [
        {
          "output_type": "stream",
          "name": "stdout",
          "text": [
            "Cuisines\n",
            "North Indian             9.800021\n",
            "North Indian, Chinese    5.350225\n",
            "Chinese                  3.706418\n",
            "Name: count, dtype: float64\n"
          ]
        }
      ],
      "source": [
        " import pandas as pd\n",
        "\n",
        "# Load the dataset\n",
        "df = pd.read_csv(\"/content/Dataset .csv\")\n",
        "\n",
        "# Count occurrences of each cuisine\n",
        "cuisine_counts = df['Cuisines'].value_counts()\n",
        "\n",
        "# Get the top 3 cuisines\n",
        "top_cuisines = cuisine_counts.head(3)\n",
        "\n",
        "# Calculate percentage\n",
        "total_restaurants = len(df)\n",
        "top_cuisines_percentage = (top_cuisines / total_restaurants) * 100\n",
        "\n",
        "# Display results\n",
        "print(top_cuisines_percentage)\n"
      ]
    },
    {
      "cell_type": "markdown",
      "source": [
        "#Task : 2"
      ],
      "metadata": {
        "id": "5U-R7XFbGrkX"
      }
    },
    {
      "cell_type": "code",
      "execution_count": 2,
      "metadata": {
        "colab": {
          "base_uri": "https://localhost:8080/"
        },
        "id": "aXc-TcJ4_Fga",
        "outputId": "135a5155-01c6-4d33-95ca-5d3593de28f6"
      },
      "outputs": [
        {
          "output_type": "stream",
          "name": "stdout",
          "text": [
            "City with the most restaurants: New Delhi (5473 restaurants)\n",
            "City with the highest average rating: Inner City (4.90 rating)\n"
          ]
        }
      ],
      "source": [
        "import pandas as pd\n",
        "\n",
        "# Load the dataset\n",
        "df = pd.read_csv(\"/content/Dataset .csv\")\n",
        "\n",
        "# Identify the city with the highest number of restaurants\n",
        "city_counts = df['City'].value_counts()\n",
        "most_restaurants_city = city_counts.idxmax()\n",
        "most_restaurants_count = city_counts.max()\n",
        "\n",
        "# Calculate the average rating for restaurants in each city\n",
        "avg_rating_per_city = df.groupby('City')['Aggregate rating'].mean()\n",
        "\n",
        "# Identify the city with the highest average rating\n",
        "highest_avg_rating_city = avg_rating_per_city.idxmax()\n",
        "highest_avg_rating = avg_rating_per_city.max()\n",
        "\n",
        "# Display results\n",
        "print(f\"City with the most restaurants: {most_restaurants_city} ({most_restaurants_count} restaurants)\")\n",
        "print(f\"City with the highest average rating: {highest_avg_rating_city} ({highest_avg_rating:.2f} rating)\")\n"
      ]
    },
    {
      "cell_type": "markdown",
      "source": [],
      "metadata": {
        "id": "hUKJ1OLlGc4g"
      }
    },
    {
      "cell_type": "markdown",
      "source": [
        "#Task : 3"
      ],
      "metadata": {
        "id": "OB7nh7YUGxAJ"
      }
    },
    {
      "cell_type": "code",
      "execution_count": 3,
      "metadata": {
        "colab": {
          "base_uri": "https://localhost:8080/",
          "height": 717
        },
        "id": "nyVpizD7_GQN",
        "outputId": "08f3143b-1920-4b95-9e58-d1c8baaff43f"
      },
      "outputs": [
        {
          "output_type": "stream",
          "name": "stderr",
          "text": [
            "<ipython-input-3-f77ec55a2ba4>:17: FutureWarning: \n",
            "\n",
            "Passing `palette` without assigning `hue` is deprecated and will be removed in v0.14.0. Assign the `x` variable to `hue` and set `legend=False` for the same effect.\n",
            "\n",
            "  sns.barplot(x=price_counts.index, y=price_counts.values, palette=\"viridis\")\n"
          ]
        },
        {
          "output_type": "display_data",
          "data": {
            "text/plain": [
              "<Figure size 800x500 with 1 Axes>"
            ],
            "image/png": "[encoded data removed]"
          },
          "metadata": {}
        },
        {
          "output_type": "stream",
          "name": "stdout",
          "text": [
            "Percentage of restaurants in each price range:\n",
            "Price range\n",
            "1    46.529159\n",
            "2    32.593446\n",
            "3    14.741912\n",
            "4     6.135483\n",
            "Name: count, dtype: float64\n"
          ]
        }
      ],
      "source": [
        "import pandas as pd\n",
        "import matplotlib.pyplot as plt\n",
        "import seaborn as sns\n",
        "\n",
        "# Load the dataset\n",
        "df = pd.read_csv(\"/content/Dataset .csv\")\n",
        "\n",
        "# Count occurrences of each price range\n",
        "price_counts = df['Price range'].value_counts()\n",
        "\n",
        "# Calculate the percentage of restaurants in each price range\n",
        "total_restaurants = len(df)\n",
        "price_percentage = (price_counts / total_restaurants) * 100\n",
        "\n",
        "# Plot the price range distribution\n",
        "plt.figure(figsize=(8, 5))\n",
        "sns.barplot(x=price_counts.index, y=price_counts.values, palette=\"viridis\")\n",
        "plt.xlabel(\"Price Range\")\n",
        "plt.ylabel(\"Number of Restaurants\")\n",
        "plt.title(\"Distribution of Price Ranges Among Restaurants\")\n",
        "plt.xticks(rotation=45)\n",
        "plt.show()\n",
        "\n",
        "# Display percentage of restaurants in each price range\n",
        "print(\"Percentage of restaurants in each price range:\")\n",
        "print(price_percentage)\n"
      ]
    },
    {
      "cell_type": "markdown",
      "source": [
        "#Task : 4"
      ],
      "metadata": {
        "id": "vGuRqlnKG0Dv"
      }
    },
    {
      "cell_type": "code",
      "execution_count": 4,
      "metadata": {
        "colab": {
          "base_uri": "https://localhost:8080/"
        },
        "id": "gFWL-TjOADhw",
        "outputId": "27b9d77a-c5a2-44ed-828a-2d3113d53173"
      },
      "outputs": [
        {
          "output_type": "stream",
          "name": "stdout",
          "text": [
            "Percentage of restaurants offering online delivery: 25.66%\n",
            "Percentage of restaurants NOT offering online delivery: 74.34%\n",
            "Average rating of restaurants with online delivery: 3.25\n",
            "Average rating of restaurants without online delivery: 2.47\n"
          ]
        }
      ],
      "source": [
        "import pandas as pd\n",
        "\n",
        "# Load the dataset\n",
        "df = pd.read_csv(\"/content/Dataset .csv\")\n",
        "\n",
        "# Ensure the 'Online Delivery' column contains binary values (e.g., 'Yes'/'No' or 1/0)\n",
        "df['Online Delivery'] = df['Has Online delivery'].astype(str).str.lower()  # Convert to lowercase for consistency\n",
        "\n",
        "# Calculate the percentage of restaurants offering online delivery\n",
        "online_delivery_counts = df['Online Delivery'].value_counts()\n",
        "total_restaurants = len(df)\n",
        "\n",
        "percentage_online_delivery = (online_delivery_counts.get('yes', 0) / total_restaurants) * 100\n",
        "percentage_no_delivery = (online_delivery_counts.get('no', 0) / total_restaurants) * 100\n",
        "\n",
        "# Compare average ratings\n",
        "avg_rating_online = df[df['Online Delivery'] == 'yes']['Aggregate rating'].mean()\n",
        "avg_rating_no_online = df[df['Online Delivery'] == 'no']['Aggregate rating'].mean()\n",
        "\n",
        "# Display results\n",
        "print(f\"Percentage of restaurants offering online delivery: {percentage_online_delivery:.2f}%\")\n",
        "print(f\"Percentage of restaurants NOT offering online delivery: {percentage_no_delivery:.2f}%\")\n",
        "print(f\"Average rating of restaurants with online delivery: {avg_rating_online:.2f}\")\n",
        "print(f\"Average rating of restaurants without online delivery: {avg_rating_no_online:.2f}\")\n"
      ]
    },
    {
      "cell_type": "markdown",
      "source": [
        "Task"
      ],
      "metadata": {
        "id": "4JdLrS6BG5o4"
      }
    }
  ],
  "metadata": {
    "colab": {
      "provenance": [],
      "authorship_tag": "ABX9TyP8tuwh5jEJq23TaD0PgOz0",
      "include_colab_link": true
    },
    "kernelspec": {
      "display_name": "Python 3",
      "name": "python3"
    },
    "language_info": {
      "name": "python"
    }
  },
  "nbformat": 4,
  "nbformat_minor": 0
}